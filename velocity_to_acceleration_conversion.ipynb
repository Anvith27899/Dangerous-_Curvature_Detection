{
  "nbformat": 4,
  "nbformat_minor": 0,
  "metadata": {
    "colab": {
      "provenance": [],
      "include_colab_link": true
    },
    "kernelspec": {
      "name": "python3",
      "display_name": "Python 3"
    },
    "language_info": {
      "name": "python"
    }
  },
  "cells": [
    {
      "cell_type": "markdown",
      "metadata": {
        "id": "view-in-github",
        "colab_type": "text"
      },
      "source": [
        "<a href=\"https://colab.research.google.com/github/TheShreyasShetty/Dangerous-_Curvature_Detection/blob/gyrocodes/velocity_to_acceleration_conversion.ipynb\" target=\"_parent\"><img src=\"https://colab.research.google.com/assets/colab-badge.svg\" alt=\"Open In Colab\"/></a>"
      ]
    },
    {
      "cell_type": "code",
      "execution_count": null,
      "metadata": {
        "colab": {
          "base_uri": "https://localhost:8080/",
          "height": 73
        },
        "id": "ZN5ui4TH29c_",
        "outputId": "1fdf6b3a-de90-413a-a1ce-3a422b5891c7"
      },
      "outputs": [
        {
          "output_type": "display_data",
          "data": {
            "text/plain": [
              "<IPython.core.display.HTML object>"
            ],
            "text/html": [
              "\n",
              "     <input type=\"file\" id=\"files-9fef3ea6-c737-4486-9e64-a0fb9d1aa91a\" name=\"files[]\" multiple disabled\n",
              "        style=\"border:none\" />\n",
              "     <output id=\"result-9fef3ea6-c737-4486-9e64-a0fb9d1aa91a\">\n",
              "      Upload widget is only available when the cell has been executed in the\n",
              "      current browser session. Please rerun this cell to enable.\n",
              "      </output>\n",
              "      <script>// Copyright 2017 Google LLC\n",
              "//\n",
              "// Licensed under the Apache License, Version 2.0 (the \"License\");\n",
              "// you may not use this file except in compliance with the License.\n",
              "// You may obtain a copy of the License at\n",
              "//\n",
              "//      http://www.apache.org/licenses/LICENSE-2.0\n",
              "//\n",
              "// Unless required by applicable law or agreed to in writing, software\n",
              "// distributed under the License is distributed on an \"AS IS\" BASIS,\n",
              "// WITHOUT WARRANTIES OR CONDITIONS OF ANY KIND, either express or implied.\n",
              "// See the License for the specific language governing permissions and\n",
              "// limitations under the License.\n",
              "\n",
              "/**\n",
              " * @fileoverview Helpers for google.colab Python module.\n",
              " */\n",
              "(function(scope) {\n",
              "function span(text, styleAttributes = {}) {\n",
              "  const element = document.createElement('span');\n",
              "  element.textContent = text;\n",
              "  for (const key of Object.keys(styleAttributes)) {\n",
              "    element.style[key] = styleAttributes[key];\n",
              "  }\n",
              "  return element;\n",
              "}\n",
              "\n",
              "// Max number of bytes which will be uploaded at a time.\n",
              "const MAX_PAYLOAD_SIZE = 100 * 1024;\n",
              "\n",
              "function _uploadFiles(inputId, outputId) {\n",
              "  const steps = uploadFilesStep(inputId, outputId);\n",
              "  const outputElement = document.getElementById(outputId);\n",
              "  // Cache steps on the outputElement to make it available for the next call\n",
              "  // to uploadFilesContinue from Python.\n",
              "  outputElement.steps = steps;\n",
              "\n",
              "  return _uploadFilesContinue(outputId);\n",
              "}\n",
              "\n",
              "// This is roughly an async generator (not supported in the browser yet),\n",
              "// where there are multiple asynchronous steps and the Python side is going\n",
              "// to poll for completion of each step.\n",
              "// This uses a Promise to block the python side on completion of each step,\n",
              "// then passes the result of the previous step as the input to the next step.\n",
              "function _uploadFilesContinue(outputId) {\n",
              "  const outputElement = document.getElementById(outputId);\n",
              "  const steps = outputElement.steps;\n",
              "\n",
              "  const next = steps.next(outputElement.lastPromiseValue);\n",
              "  return Promise.resolve(next.value.promise).then((value) => {\n",
              "    // Cache the last promise value to make it available to the next\n",
              "    // step of the generator.\n",
              "    outputElement.lastPromiseValue = value;\n",
              "    return next.value.response;\n",
              "  });\n",
              "}\n",
              "\n",
              "/**\n",
              " * Generator function which is called between each async step of the upload\n",
              " * process.\n",
              " * @param {string} inputId Element ID of the input file picker element.\n",
              " * @param {string} outputId Element ID of the output display.\n",
              " * @return {!Iterable<!Object>} Iterable of next steps.\n",
              " */\n",
              "function* uploadFilesStep(inputId, outputId) {\n",
              "  const inputElement = document.getElementById(inputId);\n",
              "  inputElement.disabled = false;\n",
              "\n",
              "  const outputElement = document.getElementById(outputId);\n",
              "  outputElement.innerHTML = '';\n",
              "\n",
              "  const pickedPromise = new Promise((resolve) => {\n",
              "    inputElement.addEventListener('change', (e) => {\n",
              "      resolve(e.target.files);\n",
              "    });\n",
              "  });\n",
              "\n",
              "  const cancel = document.createElement('button');\n",
              "  inputElement.parentElement.appendChild(cancel);\n",
              "  cancel.textContent = 'Cancel upload';\n",
              "  const cancelPromise = new Promise((resolve) => {\n",
              "    cancel.onclick = () => {\n",
              "      resolve(null);\n",
              "    };\n",
              "  });\n",
              "\n",
              "  // Wait for the user to pick the files.\n",
              "  const files = yield {\n",
              "    promise: Promise.race([pickedPromise, cancelPromise]),\n",
              "    response: {\n",
              "      action: 'starting',\n",
              "    }\n",
              "  };\n",
              "\n",
              "  cancel.remove();\n",
              "\n",
              "  // Disable the input element since further picks are not allowed.\n",
              "  inputElement.disabled = true;\n",
              "\n",
              "  if (!files) {\n",
              "    return {\n",
              "      response: {\n",
              "        action: 'complete',\n",
              "      }\n",
              "    };\n",
              "  }\n",
              "\n",
              "  for (const file of files) {\n",
              "    const li = document.createElement('li');\n",
              "    li.append(span(file.name, {fontWeight: 'bold'}));\n",
              "    li.append(span(\n",
              "        `(${file.type || 'n/a'}) - ${file.size} bytes, ` +\n",
              "        `last modified: ${\n",
              "            file.lastModifiedDate ? file.lastModifiedDate.toLocaleDateString() :\n",
              "                                    'n/a'} - `));\n",
              "    const percent = span('0% done');\n",
              "    li.appendChild(percent);\n",
              "\n",
              "    outputElement.appendChild(li);\n",
              "\n",
              "    const fileDataPromise = new Promise((resolve) => {\n",
              "      const reader = new FileReader();\n",
              "      reader.onload = (e) => {\n",
              "        resolve(e.target.result);\n",
              "      };\n",
              "      reader.readAsArrayBuffer(file);\n",
              "    });\n",
              "    // Wait for the data to be ready.\n",
              "    let fileData = yield {\n",
              "      promise: fileDataPromise,\n",
              "      response: {\n",
              "        action: 'continue',\n",
              "      }\n",
              "    };\n",
              "\n",
              "    // Use a chunked sending to avoid message size limits. See b/62115660.\n",
              "    let position = 0;\n",
              "    do {\n",
              "      const length = Math.min(fileData.byteLength - position, MAX_PAYLOAD_SIZE);\n",
              "      const chunk = new Uint8Array(fileData, position, length);\n",
              "      position += length;\n",
              "\n",
              "      const base64 = btoa(String.fromCharCode.apply(null, chunk));\n",
              "      yield {\n",
              "        response: {\n",
              "          action: 'append',\n",
              "          file: file.name,\n",
              "          data: base64,\n",
              "        },\n",
              "      };\n",
              "\n",
              "      let percentDone = fileData.byteLength === 0 ?\n",
              "          100 :\n",
              "          Math.round((position / fileData.byteLength) * 100);\n",
              "      percent.textContent = `${percentDone}% done`;\n",
              "\n",
              "    } while (position < fileData.byteLength);\n",
              "  }\n",
              "\n",
              "  // All done.\n",
              "  yield {\n",
              "    response: {\n",
              "      action: 'complete',\n",
              "    }\n",
              "  };\n",
              "}\n",
              "\n",
              "scope.google = scope.google || {};\n",
              "scope.google.colab = scope.google.colab || {};\n",
              "scope.google.colab._files = {\n",
              "  _uploadFiles,\n",
              "  _uploadFilesContinue,\n",
              "};\n",
              "})(self);\n",
              "</script> "
            ]
          },
          "metadata": {}
        },
        {
          "output_type": "stream",
          "name": "stdout",
          "text": [
            "Saving Raw Data_gyroscope.xlsx to Raw Data_gyroscope.xlsx\n"
          ]
        }
      ],
      "source": [
        "from google.colab import files\n",
        "uploaded=files.upload()"
      ]
    },
    {
      "cell_type": "code",
      "source": [
        "import pandas as pd\n",
        "import numpy as np\n",
        "import io\n",
        "df=pd.read_excel(io.BytesIO(uploaded['Raw Data_gyroscope.xlsx']))\n",
        "print(df.head())"
      ],
      "metadata": {
        "colab": {
          "base_uri": "https://localhost:8080/"
        },
        "id": "Vtt1I7x13OSk",
        "outputId": "a660ead8-d555-49e8-e427-ff53aac775e3"
      },
      "execution_count": null,
      "outputs": [
        {
          "output_type": "stream",
          "name": "stdout",
          "text": [
            "   Time (s)  Gyroscope x (rad/s)  Gyroscope y (rad/s)  Gyroscope z (rad/s)  \\\n",
            "0  0.048774             0.335682            -0.408384            -1.172023   \n",
            "1  0.051250             0.286681            -0.368970            -1.160305   \n",
            "2  0.053726             0.249531            -0.350861            -1.159240   \n",
            "3  0.056203             0.216509            -0.347665            -1.162436   \n",
            "4  0.058673             0.180291            -0.341274            -1.157109   \n",
            "\n",
            "   Absolute (rad/s)  \n",
            "0          1.285728  \n",
            "1          1.250853  \n",
            "2          1.236611  \n",
            "3          1.232479  \n",
            "4          1.219785  \n"
          ]
        }
      ]
    },
    {
      "cell_type": "code",
      "source": [
        "z=df.iloc[:,3].values\n",
        "print(z)"
      ],
      "metadata": {
        "colab": {
          "base_uri": "https://localhost:8080/"
        },
        "id": "TooY9wBL30N-",
        "outputId": "78e5ee3f-fd04-4401-88cb-9d3f6117066f"
      },
      "execution_count": null,
      "outputs": [
        {
          "output_type": "stream",
          "name": "stdout",
          "text": [
            "[-1.17202258 -1.16030502 -1.15923989 ... -0.48081955 -0.48401526\n",
            " -0.48721096]\n"
          ]
        }
      ]
    },
    {
      "cell_type": "code",
      "source": [
        "time_diff=0.00247"
      ],
      "metadata": {
        "id": "guvy6qDJ4F9h"
      },
      "execution_count": null,
      "outputs": []
    },
    {
      "cell_type": "code",
      "source": [
        "acceleration=np.gradient(z,time_diff)"
      ],
      "metadata": {
        "id": "b0s1_9O_4PnN"
      },
      "execution_count": null,
      "outputs": []
    },
    {
      "cell_type": "code",
      "source": [
        "print(acceleration[:20],\"\\n\",z[:20])"
      ],
      "metadata": {
        "colab": {
          "base_uri": "https://localhost:8080/"
        },
        "id": "_dEXFIEZ4dr4",
        "outputId": "100b91ba-e64c-48b8-ea15-602b75b845a7"
      },
      "execution_count": null,
      "outputs": [
        {
          "output_type": "stream",
          "name": "stdout",
          "text": [
            "[ 4.74395061  2.58758968 -0.43127713  0.43127692  0.86252996 -0.86252976\n",
            " -1.07816842 -0.43127713  0.64691559  0.21563846  0.          1.50944555\n",
            "  2.15633684  2.80322814  2.3719751   1.72508381  2.80325243  3.23450526\n",
            "  2.3719753   2.15636093] \n",
            " [-1.17202258 -1.16030502 -1.15923989 -1.16243553 -1.15710938 -1.15817463\n",
            " -1.16137028 -1.16350079 -1.16350079 -1.16030502 -1.16243553 -1.16030502\n",
            " -1.15497887 -1.14965272 -1.14113092 -1.13793516 -1.13260901 -1.12408709\n",
            " -1.11663055 -1.11236954]\n"
          ]
        }
      ]
    },
    {
      "cell_type": "markdown",
      "source": [
        "# `**Here we are considering around 386 rows which approximately has a time difference of 1 sec and later we are calculating the median of the accelerated values**`"
      ],
      "metadata": {
        "id": "Ivj1-zXv9oMh"
      }
    },
    {
      "cell_type": "code",
      "source": [
        "import statistics as sp\n",
        "acceleration_new=[]\n",
        "k=0\n",
        "j=386\n",
        "for i in range(475):\n",
        "  m=acceleration[k:j+1]\n",
        "  medin=sp.median(m)\n",
        "  acceleration_new.append(medin)\n",
        "  k=k+386\n",
        "  j=j+386\n",
        "print(acceleration_new)\n",
        "\n"
      ],
      "metadata": {
        "colab": {
          "base_uri": "https://localhost:8080/"
        },
        "id": "sg3m1Wxz-FUU",
        "outputId": "b155a547-a738-4dd6-9d4d-6985b25c8654"
      },
      "execution_count": null,
      "outputs": [
        {
          "output_type": "stream",
          "name": "stdout",
          "text": [
            "[1.293803886639673, 0.8625366740890694, -0.6469034412955453, 0.646900425101211, -0.8625359109311748, -0.215638502024298, 0.0, 0.0, -0.8625359109311748, -0.43127097165991607, 0.8625359109311748, 0.6468914979757192, -2.3719751012145953, -0.8625419433198321, 1.7250748582995947, -1.509433340080968, 3.018890688259111, 0.8625056680162659, 1.2938068825910682, 0.43127712550609587, 5.3908660931174115, 5.175203441295522, 2.8032522267206463, 0.21563846153846467, -3.88142064777325, 0.215638502024298, 5.390841902833986, 5.175227530364363, 1.9407103441295641, -0.8625297570850173, 0.43126493927125864, 0.8625359109311748, -0.8625538461538587, -0.21563246963562932, -0.6469026923076924, 0.21563548582996364, 0.0, -0.8625359109311748, -0.4312709716599217, 0.0, 1.0781684008097208, 0.0, -2.3719752834008117, -0.8625359311740913, -1.0781683805667928, -0.6469034412955453, 0.6469004251012167, -0.21563246963562932, 0.21563246963562932, -2.156336781376525, -0.6469034412955453, -0.8625419635627488, 1.725071842105266, 0.6469034412955341, 0.646903461538462, 2.5876107894736804, -0.8625359109311691, -0.2156324696356237, 0.21563548785424969, 0.0, 0.8625374251012141, -0.8625374291497974, -0.43126947368421004, -1.725071842105266, 0.646903461538462, -2.156341295546557, 0.8625359311740913, 0.0, 1.5094393724696256, 4.285730809716603, 1.725071842105266, -0.21563246963562932, -0.6469034412955567, -1.9407043117408842, 0.0, -0.8625374271255057, 1.0781683805668152, -0.21563850202428675, 0.43126795951416785, 0.43126493927125864, -0.4312649595141753, 0.4312770242914901, -1.725071842105266, 1.5094393724696256, -1.7250748582995947, 0.0, 0.43126495951415283, -0.6469026923076924, -2.156342153643725, -0.8625298785425173, -1.2938008502024334, 1.0781683805667928, -0.4312679554655874, -1.9407103441295641, 0.43127099190283275, -0.8625359109311748, -1.078174433198378, 1.7250778744939235, -0.43127097165991607, 0.21563473481781337, 0.4312709716599273, -1.509433340080968, -2.587613785425098, -0.4312679554655874, -1.0781744129554727, -0.43127097165991607, 0.6469034412955567, -0.8625359109311748, -0.646903441295551, -2.5876077732793576, -0.43127099190283275, -0.862529898785434, -0.4312685263157896, -1.0781714068825912, -0.4312679554655874, 1.5094393724696367, -0.6469034412955341, -0.646903461538462, 0.8625359311740913, -0.8625359311740913, 0.4312649595141753, 0.646903461538462, -0.8625368607287451, -1.0781714068825912, -1.2938069028340073, -0.6469034412955453, -0.8625366720647764, -1.7250778744939235, -0.6468912955465527, -1.293805386639675, -1.9407042914979789, -1.0781714170040495, -1.7250735344129555, -1.509433340080968, -0.8625359109311748, -0.4312649595141753, -0.21563548582995803, 0.4312709716599217, -0.43126493927125864, -2.3719752834008117, -0.6469034412955341, 2.5876107712550613, -0.43127097165991607, 0.8625359109311748, -0.43127097165991607, -0.21563435829959518, -0.215638502024298, -0.43127097165991607, -1.0781684008097208, 0.0, -0.43126946761133506, -0.2156324696356237, 0.21563550607287468, 0.0, 0.6469034412955453, -0.4312679554655874, -0.215638502024298, 0.8355811133603194, -0.8625359311740858, -0.6469034392712537, 0.0, -0.8625359109311748, -0.21563852226721464, 0.0, -0.43127097165991607, -1.0781744129554727, 0.21563246963562932, -0.43127097165991607, 0.21563246963562932, -0.21563246963562932, -0.8625419433198546, 0.8625359109311748, -1.9407073076923074, -1.9407103441295417, 0.0, 0.6469034412955453, -0.8625359109311748, -0.4312679554655874, -0.8625389473684201, -1.2938053846153847, -0.21563397975708534, 0.43127097165991607, -1.5094393724696367, -1.509433340080968, 0.0, -0.21563850202428675, -0.646903461538462, 1.2938053846153847, -1.0781714170040495, -0.8625359109311748, 0.215638502024298, -1.50943974291498, -0.21563246963562932, 0.21563246963562932, -1.2668520850202354, 0.8625359109311634, -1.2938068825910907, -0.6469034412955453, 2.1563397975708534, -2.587613785425098, 0.8625359311740858, 0.21563246963562932, -0.21563246963562932, 0.6469034412955453, 0.43126493927125864, 0.21563246963562932, -0.8625419433198434, 0.6469034412955482, -0.43126946761133506, 0.646903461538462, -0.6469034412955453, -1.9407103441295528, 0.0, -1.0781804453441302, 0.43126495951416405, 1.0781713967611328, 0.43126795546558455, -0.8625359311740913, 0.0, -1.5094393724696367, 0.21563397975708534, -0.43126493927125864, 0.43126493927125864, 0.4312649595141753, 0.21563548582996364, 0.0, -0.21563548582995803, -0.6469034615384508, 0.21563246963562932, -1.9407079854251015, -0.4312679595141707, -2.5876107732793527, -0.6469034615384733, -0.21563246963562932, -0.21562643724696065, 0.0, -0.6469026923076924, -0.6469034412955453, -1.2938069028340073, -0.43126493927125864, -1.940707327935224, -1.2938068825910907, -0.21563397975708534, 0.43126946761133506, -0.4312679757084984, -1.0781744129554613, -0.6469026923076924, 0.0, -1.078168380566804, -1.725071842105266, 0.6469034412955453, -0.8355810931174139, 1.078168380566804, -1.7250838866396643, -0.43126946761133506, 0.0, 1.5094393724696311, 0.6469034412955453, -0.8625359109311748, -0.6469034412955453, 0.21563397975708254, -0.646900425101211, -1.5094393724696367, -0.43126946761133506, 0.0, 1.2938068825910907, -0.2156385020242755, -1.5094393724696367, -1.0781683805668152, -1.5094393724696311, 1.9407080789473687, 0.8625359109311748, 0.43126493927125864, 0.6469034412955567, 1.2938038866396788, -1.2938068825910907, -1.725071842105266, -0.8625419433198546, 0.43126493927125864, -0.21563397975708254, 0.8625419433198321, 0.6469034412955453, -0.8625359311740858, -0.6468914979757192, -0.8625359109311748, 0.215638502024298, 0.43126493927125864, 0.43126493927125864, 0.43126493927125864, 0.4312679757084984, -1.7250748522267199, 1.0781683805667928, 0.646903441295551, 0.6469034412955453, -0.8625374291497974, 0.0, 0.21563850202428675, 0.8625419635627488, -0.8625359109311748, -1.0781713967611328, -0.8625359109311748, -0.21563246963562932, -0.21563246963562932, -0.6469034412955453, -0.6469034412955567, 0.6469004453441277, -0.6469026943319833, -0.43126797570850123, 0.21563246963562932, 0.21563248987854597, -0.21563397975708465, -1.293806882591102, 0.4312679554655874, -0.215638502024298, -2.3719752834008117, 0.2156341680161941, -1.0781714170040495, 0.0, 0.21563850202428675, 0.6469026696558705, -0.21563548582995803, -0.4312694534412962, -0.8625359109311748, -1.0781744129554613, 0.0, -0.4312679554655874, -0.6469034473684232, -1.0781713967611328, -1.078171412955466, -0.646903461538462, -1.2938038663967621, -0.6469034615384508, -1.2938068825910964, 0.0, -1.2938051967611337, -0.4312679554655874, -0.6469034412955453, -0.8625359109311748, 0.0, -1.0781804453441302, 1.2938068825910907, 0.43127097165991607, -0.646902694331984, -0.8625359311740913, -1.5094393522267202, 0.0, 0.21563246963562932, 0.43126493927125864, -0.43127097165991607, -0.646903461538462, -0.21563548582995803, -0.43126946761133506, 0.43126493927125864, -0.8625298785424949, -0.862536674089068, -0.6469034412955453, -0.646901939271256, 0.646903461538462, -0.6469019392712532, 0.43126871255060845, 0.4312709716599273, -0.8625419433198321, 0.0, 0.0, 0.0, 0.2156339878542492, -0.6469019230769227, 0.4312679554655874, 0.0, 0.0, 0.0, 0.0, 0.0, 0.0, -0.21563397975708534, 0.21563396761133535, 0.0, 0.21563548582995803, 0.0, -0.2156339777327937, 0.0, 0.0, 0.0, 0.0, 0.0, 0.0, -0.21563397975708465, 0.0, 0.0, 0.0, 0.0, -0.4312649595141753, 0.21563548582995243, 0.21563548582995803, 0.21563397975708534, 0.0, 0.0, 0.21563397975708534, -0.43126797570850123, 1.0781714068825912, -0.8625389271255091, 1.0781684008097094, 0.215638502024298, 0.21563246963562932, -2.1563420607287442, -0.8625297570850173, -1.078174433198378, 0.6469034412955453, -0.646903461538462, -1.5094393522267202, 0.646903461538462, -1.0781714068825912, -1.5094393724696367, -0.646900425101211, -1.9407103441295528, 0.21563246963562932, 1.0781714048582993, 0.21563548582995803, -1.0781713967611328, 0.21563246963561808, -0.6469025036437248, -0.21563397975708534, -0.6469034412955567, 0.0, 0.8625419635627488, 0.0, 1.7250718421052436, 1.5094333198380514, 0.0, -1.7250718421052549, 0.8625366720647777, 0.43127097165991607, -0.6469026923076924, -0.215638502024298, 0.2156324696356237, 0.0, 0.0, 0.0, 0.646902694331984, 0.0, 0.21563396761133535, 0.6469026923076924, 0.6469019433198365, -0.6469034412955453, 0.21563397975708534, 0.2156341680161941, -0.646903441295551, 0.43126493927125864, 0.0, 0.21563548785424969, -1.725071842105266, 0.0, 0.6469034412955453, 0.4312679757084984, -1.2938008704453388, -1.5094333198380514, 0.6469004453441277, -1.0781710299595144, -0.8625366740890686, -0.8625328947368404, -3.8544598380566875, 0.43126493927125864, 0.43126946761133506, -1.0781714170040495, -1.0781684210526485, -0.21562643724696065, -0.646903461538462, 0.0, -1.078168380566804, 1.5094393724696311, -0.2156324696356237, -1.5094393724696367, 0.21563548582995803, -0.8625359109311748, 0.4312770040485735]\n"
          ]
        }
      ]
    },
    {
      "cell_type": "code",
      "source": [
        "time_new=[]\n",
        "for j in range(1,476):\n",
        "  time_new.append(j)\n",
        "at_new=[list(item) for item in zip(time_new, acceleration_new)]\n",
        "kf=pd.DataFrame(at_new,columns=[\"Time\",\"Acceleration\"])\n",
        "kf.to_excel(\"Time_X_Acceleration.xlsx\",'w')\n"
      ],
      "metadata": {
        "id": "ryldlrNrAezQ"
      },
      "execution_count": null,
      "outputs": []
    },
    {
      "cell_type": "code",
      "source": [
        "files.download(\"Time_X_Acceleration.xlsx\")"
      ],
      "metadata": {
        "colab": {
          "base_uri": "https://localhost:8080/",
          "height": 17
        },
        "id": "GW3BaD3TF5yL",
        "outputId": "2ebc9da4-39ce-4fa9-eb09-4da4e9ec740f"
      },
      "execution_count": null,
      "outputs": [
        {
          "output_type": "display_data",
          "data": {
            "text/plain": [
              "<IPython.core.display.Javascript object>"
            ],
            "application/javascript": [
              "\n",
              "    async function download(id, filename, size) {\n",
              "      if (!google.colab.kernel.accessAllowed) {\n",
              "        return;\n",
              "      }\n",
              "      const div = document.createElement('div');\n",
              "      const label = document.createElement('label');\n",
              "      label.textContent = `Downloading \"${filename}\": `;\n",
              "      div.appendChild(label);\n",
              "      const progress = document.createElement('progress');\n",
              "      progress.max = size;\n",
              "      div.appendChild(progress);\n",
              "      document.body.appendChild(div);\n",
              "\n",
              "      const buffers = [];\n",
              "      let downloaded = 0;\n",
              "\n",
              "      const channel = await google.colab.kernel.comms.open(id);\n",
              "      // Send a message to notify the kernel that we're ready.\n",
              "      channel.send({})\n",
              "\n",
              "      for await (const message of channel.messages) {\n",
              "        // Send a message to notify the kernel that we're ready.\n",
              "        channel.send({})\n",
              "        if (message.buffers) {\n",
              "          for (const buffer of message.buffers) {\n",
              "            buffers.push(buffer);\n",
              "            downloaded += buffer.byteLength;\n",
              "            progress.value = downloaded;\n",
              "          }\n",
              "        }\n",
              "      }\n",
              "      const blob = new Blob(buffers, {type: 'application/binary'});\n",
              "      const a = document.createElement('a');\n",
              "      a.href = window.URL.createObjectURL(blob);\n",
              "      a.download = filename;\n",
              "      div.appendChild(a);\n",
              "      a.click();\n",
              "      div.remove();\n",
              "    }\n",
              "  "
            ]
          },
          "metadata": {}
        },
        {
          "output_type": "display_data",
          "data": {
            "text/plain": [
              "<IPython.core.display.Javascript object>"
            ],
            "application/javascript": [
              "download(\"download_3e2e9e84-9e3f-4a93-acdd-9e609875d8c6\", \"Time_X_Acceleration.xlsx\", 14750)"
            ]
          },
          "metadata": {}
        }
      ]
    }
  ]
}